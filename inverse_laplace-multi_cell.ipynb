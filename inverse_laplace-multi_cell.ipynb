{
 "cells": [
  {
   "cell_type": "code",
   "execution_count": 426,
   "metadata": {
    "ExecuteTime": {
     "end_time": "2018-03-04T15:34:38.431898Z",
     "start_time": "2018-03-04T15:34:38.425527Z"
    },
    "collapsed": true,
    "deletable": true,
    "editable": true
   },
   "outputs": [],
   "source": [
    "import numpy as np\n",
    "import interpolation\n",
    "import lobatto\n",
    "import matplotlib.pyplot as plt\n",
    "import matrix_generator\n",
    "import system\n",
    "import element\n",
    "import sympy as sym"
   ]
  },
  {
   "cell_type": "code",
   "execution_count": 427,
   "metadata": {
    "ExecuteTime": {
     "end_time": "2018-03-04T15:34:38.661013Z",
     "start_time": "2018-03-04T15:34:38.657308Z"
    },
    "collapsed": true,
    "deletable": true,
    "editable": true
   },
   "outputs": [],
   "source": [
    "def linear(args, k=1.0):\n",
    "    return k*(1+args['y'])\n",
    "\n",
    "def dlinear(args, k=1.0):\n",
    "    return k*np.ones_like(args['x'])"
   ]
  },
  {
   "cell_type": "code",
   "execution_count": 453,
   "metadata": {
    "ExecuteTime": {
     "end_time": "2018-03-04T15:35:39.655962Z",
     "start_time": "2018-03-04T15:35:39.548666Z"
    },
    "collapsed": false,
    "deletable": true,
    "editable": true
   },
   "outputs": [
    {
     "data": {
      "text/plain": [
       "[[<element.element at 0x7fa3b15b5ed0>,\n",
       "  <element.element at 0x7fa3b1488b50>,\n",
       "  <element.element at 0x7fa3b1488410>],\n",
       " [<element.element at 0x7fa3b15b5290>,\n",
       "  <element.element at 0x7fa3b14888d0>,\n",
       "  <element.element at 0x7fa3b1488e10>],\n",
       " [<element.element at 0x7fa3b15b5f50>,\n",
       "  <element.element at 0x7fa3b1488a10>,\n",
       "  <element.element at 0x7fa3b1488f90>]]"
      ]
     },
     "execution_count": 453,
     "metadata": {},
     "output_type": "execute_result"
    }
   ],
   "source": [
    "boundary = {'N':{'type':'dirichlet' ,'val':linear, 'args':[\"x\",\"y\"]},\n",
    "              'E':{'type':'dirichlet' ,'val':linear,  'args':[\"x\",\"y\"]},\n",
    "              'W':{'type':'dirichlet' ,'val':linear, 'args':[\"x\",\"y\"]}, \n",
    "              'S':{'type':'dirichlet' ,'val':linear, 'args':[\"x\",\"y\"]}}\n",
    "n = 10\n",
    "nx = 3\n",
    "ny = 3\n",
    "s = system.system(-1.0,1.0,-1.0,1.0,nx,ny,n,n, num_samples_x=100, exact=False)\n",
    "s.elements"
   ]
  },
  {
   "cell_type": "code",
   "execution_count": 454,
   "metadata": {
    "ExecuteTime": {
     "end_time": "2018-03-04T15:35:39.918919Z",
     "start_time": "2018-03-04T15:35:39.912654Z"
    },
    "collapsed": false,
    "deletable": true,
    "editable": true
   },
   "outputs": [],
   "source": [
    "s.add_property('T',linear,arg_params=['x','y'], sample=True)\n",
    "s.set_boundaries('T', boundary)\n",
    "s.ddy(var='T', outVar='dT',fluxType='centered')"
   ]
  },
  {
   "cell_type": "code",
   "execution_count": 455,
   "metadata": {
    "ExecuteTime": {
     "end_time": "2018-03-04T15:35:40.288374Z",
     "start_time": "2018-03-04T15:35:40.103505Z"
    },
    "collapsed": false,
    "deletable": true,
    "editable": true
   },
   "outputs": [
    {
     "data": {
      "image/png": "[encoded data removed]",
      "text/plain": [
       "<matplotlib.figure.Figure at 0x7fa3b14b7c10>"
      ]
     },
     "metadata": {},
     "output_type": "display_data"
    }
   ],
   "source": [
    "plt.plot(s.properties['y'],s.properties['T'],'ro'); plt.show()"
   ]
  },
  {
   "cell_type": "code",
   "execution_count": 456,
   "metadata": {
    "ExecuteTime": {
     "end_time": "2018-03-04T15:35:40.509824Z",
     "start_time": "2018-03-04T15:35:40.290367Z"
    },
    "collapsed": false,
    "deletable": true,
    "editable": true
   },
   "outputs": [
    {
     "data": {
      "image/png": "[encoded data removed]",
      "text/plain": [
       "<matplotlib.figure.Figure at 0x7fa3b1838cd0>"
      ]
     },
     "metadata": {},
     "output_type": "display_data"
    }
   ],
   "source": [
    "plt.figure(figsize=[5,5]);plt.plot(s.properties['x'],s.properties['y'],'rx'); plt.show()"
   ]
  },
  {
   "cell_type": "code",
   "execution_count": 457,
   "metadata": {
    "ExecuteTime": {
     "end_time": "2018-03-04T15:35:40.523842Z",
     "start_time": "2018-03-04T15:35:40.511708Z"
    },
    "collapsed": false,
    "deletable": true,
    "editable": true
   },
   "outputs": [],
   "source": [
    "global_M_inv = np.zeros([nx*n*ny*n,nx*n*ny*n])\n",
    "\n",
    "global_Dx = np.zeros([nx*n*ny*n,nx*n*ny*n])\n",
    "global_Dy = np.zeros([nx*n*ny*n,nx*n*ny*n])\n",
    "\n",
    "global_Fx = np.zeros([nx*n*ny*n,nx*n*ny*n])\n",
    "global_Fy = np.zeros([nx*n*ny*n,nx*n*ny*n])\n",
    "\n",
    "a = np.zeros_like(s.Dx)\n",
    "a[::n,::n] = s.Fx.copy()\n",
    "a[n-1::n,n-1::n] = -1*s.Fx.copy()\n",
    "\n",
    "s.Fx_full = a\n",
    "\n",
    "a = np.zeros_like(s.Dy)\n",
    "a[:n,:n] = s.Fy.copy()\n",
    "a[-n:,-n:] = -1*s.Fy.copy()\n",
    "\n",
    "s.Fy_full = a"
   ]
  },
  {
   "cell_type": "code",
   "execution_count": 458,
   "metadata": {
    "ExecuteTime": {
     "end_time": "2018-03-04T15:35:41.066129Z",
     "start_time": "2018-03-04T15:35:41.031280Z"
    },
    "collapsed": false,
    "deletable": true,
    "editable": true
   },
   "outputs": [],
   "source": [
    "for ix in xrange(nx):\n",
    "    for iy in xrange(ny):\n",
    "        for row_dest in xrange(n):\n",
    "            for row_source in xrange(n):\n",
    "                temp_dest = n*nx*n*iy+n*nx*row_dest+n*ix\n",
    "                temp_source = n*nx*n*iy+n*nx*row_source+n*ix\n",
    "                \n",
    "                l_source = n*row_source\n",
    "                l_dest   = n*row_dest\n",
    "                \n",
    "                global_M_inv[temp_dest:temp_dest+n,temp_source:temp_source+n] = s.M_inv[l_dest:l_dest+n,l_source:l_source+n]\n",
    "                \n",
    "                global_Dx[temp_dest:temp_dest+n,temp_source:temp_source+n] = s.Dx[l_dest:l_dest+n,l_source:l_source+n]\n",
    "                global_Dy[temp_dest:temp_dest+n,temp_source:temp_source+n] = s.Dy[l_dest:l_dest+n,l_source:l_source+n]\n",
    "                \n",
    "                global_Fx[temp_dest:temp_dest+n,temp_source:temp_source+n] = s.Fx_full[l_dest:l_dest+n,l_source:l_source+n]\n",
    "                global_Fy[temp_dest:temp_dest+n,temp_source:temp_source+n] = s.Fy_full[l_dest:l_dest+n,l_source:l_source+n]"
   ]
  },
  {
   "cell_type": "code",
   "execution_count": 475,
   "metadata": {
    "ExecuteTime": {
     "end_time": "2018-03-04T15:40:03.552363Z",
     "start_time": "2018-03-04T15:40:03.479436Z"
    },
    "collapsed": false
   },
   "outputs": [],
   "source": [
    "global_bx = np.eye(nx*n*ny*n)\n",
    "global_by = np.eye(nx*n*ny*n)\n",
    "\n",
    "for ix in xrange(nx-1):\n",
    "    for iy in xrange(ny):\n",
    "        for row in xrange(n):\n",
    "            index_west = n*nx*n*iy+n*nx*row+n*ix\n",
    "            index_east = index_west + n -1\n",
    "            global_bx[index_east,index_east] = 0.5\n",
    "            global_bx[index_east+1,index_east] = 0.5\n",
    "            global_bx[index_east,index_east+1] = 0.5\n",
    "            global_bx[index_east+1,index_east+1] = 0.5\n",
    "\n",
    "for ix in xrange(nx):\n",
    "    for iy in xrange(ny-1):\n",
    "        for col in xrange(n):\n",
    "            index_south = n*nx*n*iy+n*ix+col\n",
    "            index_north = index_south + n*nx*(n-1)\n",
    "            global_by[index_north,index_north] = 0.5\n",
    "            global_by[index_north+n*nx,index_north] = 0.5\n",
    "            global_by[index_north,index_north+n*nx] = 0.5\n",
    "            global_by[index_north+n*nx,index_north+n*nx] = 0.5\n",
    "            \n",
    "global_Fx = global_Fx.dot(global_bx)\n",
    "global_Fy = global_Fy.dot(global_by)"
   ]
  },
  {
   "cell_type": "code",
   "execution_count": 476,
   "metadata": {
    "ExecuteTime": {
     "end_time": "2018-03-04T15:40:03.862703Z",
     "start_time": "2018-03-04T15:40:03.795376Z"
    },
    "collapsed": true
   },
   "outputs": [],
   "source": [
    "derx = -1*global_M_inv.dot(global_Fx + global_Dx)\n",
    "dery = -1*global_M_inv.dot(global_Fy + global_Dy)"
   ]
  },
  {
   "cell_type": "code",
   "execution_count": 479,
   "metadata": {
    "ExecuteTime": {
     "end_time": "2018-03-04T15:40:20.059360Z",
     "start_time": "2018-03-04T15:40:20.007536Z"
    },
    "collapsed": true
   },
   "outputs": [],
   "source": [
    "der2x = derx.dot(derx)\n",
    "der2y = dery.dot(dery)\n",
    "lap = der2x + der2y"
   ]
  },
  {
   "cell_type": "code",
   "execution_count": 462,
   "metadata": {
    "ExecuteTime": {
     "end_time": "2018-03-04T15:35:43.678760Z",
     "start_time": "2018-03-04T15:35:43.671657Z"
    },
    "collapsed": false
   },
   "outputs": [
    {
     "data": {
      "text/plain": [
       "6163.7243684298601"
      ]
     },
     "execution_count": 462,
     "metadata": {},
     "output_type": "execute_result"
    }
   ],
   "source": [
    "np.max(abs(der2y))"
   ]
  },
  {
   "cell_type": "code",
   "execution_count": 481,
   "metadata": {
    "ExecuteTime": {
     "end_time": "2018-03-04T15:46:47.916585Z",
     "start_time": "2018-03-04T15:46:47.906902Z"
    },
    "collapsed": true
   },
   "outputs": [],
   "source": [
    "#LHS boundaries\n",
    "\n",
    "lap[:n*nx] = 0\n",
    "lap[:n*nx,:n*nx] = np.eye(n*nx)\n",
    "lap[-n*nx:] = 0\n",
    "lap[-n*nx:,-n*nx:] = np.eye(n*nx)\n",
    "\n",
    "lap[::n*nx] = 0\n",
    "lap[::n*nx,::n*nx] = np.eye(n*ny)\n",
    "lap[n*nx-1::n*nx] = 0\n",
    "lap[n*nx-1::n*nx,n*nx-1::n*nx] = np.eye(n*ny)\n",
    "\n",
    "lap[:n*nx,:n*nx] = dery[:n*nx,:n*nx]\n",
    "#lap[-n*nx:,-n*nx:] = dery[-n*nx:,-n*nx:]\n",
    "#lap[n-1::n,n-1::n] = derx[n-1::n,n-1::n]"
   ]
  },
  {
   "cell_type": "code",
   "execution_count": 482,
   "metadata": {
    "ExecuteTime": {
     "end_time": "2018-03-04T15:46:51.079798Z",
     "start_time": "2018-03-04T15:46:50.644639Z"
    },
    "collapsed": true
   },
   "outputs": [],
   "source": [
    "lap_inv = np.linalg.pinv(lap)"
   ]
  },
  {
   "cell_type": "code",
   "execution_count": 483,
   "metadata": {
    "ExecuteTime": {
     "end_time": "2018-03-04T15:46:51.592253Z",
     "start_time": "2018-03-04T15:46:51.548682Z"
    },
    "collapsed": false
   },
   "outputs": [
    {
     "data": {
      "text/plain": [
       "0.0"
      ]
     },
     "execution_count": 483,
     "metadata": {},
     "output_type": "execute_result"
    }
   ],
   "source": [
    "np.linalg.det(lap_inv)"
   ]
  },
  {
   "cell_type": "code",
   "execution_count": 484,
   "metadata": {
    "ExecuteTime": {
     "end_time": "2018-03-04T15:46:52.174708Z",
     "start_time": "2018-03-04T15:46:52.168232Z"
    },
    "collapsed": true,
    "run_control": {
     "marked": false
    }
   },
   "outputs": [],
   "source": [
    "s.add_property('dT',sample=True)"
   ]
  },
  {
   "cell_type": "code",
   "execution_count": 485,
   "metadata": {
    "ExecuteTime": {
     "end_time": "2018-03-04T15:46:53.830085Z",
     "start_time": "2018-03-04T15:46:53.827642Z"
    },
    "collapsed": true
   },
   "outputs": [],
   "source": [
    "y = s.properties['dT'].ravel()"
   ]
  },
  {
   "cell_type": "code",
   "execution_count": 545,
   "metadata": {
    "ExecuteTime": {
     "end_time": "2018-03-04T16:18:11.643390Z",
     "start_time": "2018-03-04T16:18:11.639445Z"
    },
    "collapsed": true
   },
   "outputs": [],
   "source": [
    "y[:] = 0\n",
    "y[:n*nx]=-5.0  #S\n",
    "y[-n*nx:]=0.0 #N\n",
    "y[::n*nx]=0.0 #E\n",
    "y[n*nx-1::n*nx]=0.0 #W"
   ]
  },
  {
   "cell_type": "code",
   "execution_count": 546,
   "metadata": {
    "ExecuteTime": {
     "end_time": "2018-03-04T16:18:12.017690Z",
     "start_time": "2018-03-04T16:18:12.012219Z"
    },
    "collapsed": true
   },
   "outputs": [],
   "source": [
    "ing = lap_inv.dot(y).reshape([n*ny,n*nx])"
   ]
  },
  {
   "cell_type": "code",
   "execution_count": 547,
   "metadata": {
    "ExecuteTime": {
     "end_time": "2018-03-04T16:18:12.380831Z",
     "start_time": "2018-03-04T16:18:12.366875Z"
    },
    "collapsed": false
   },
   "outputs": [
    {
     "data": {
      "text/plain": [
       "array([[  0.00000000e+00,   2.90210069e-02,   4.99969118e-02, ...,\n",
       "          4.99969118e-02,   2.90210069e-02,  -8.35622675e-15],\n",
       "       [  3.38004556e-13,   9.65385019e-03,   1.78657631e-02, ...,\n",
       "          1.78657631e-02,   9.65385019e-03,   6.52507408e-13],\n",
       "       [  8.21220271e-13,   4.45274070e-03,   8.77195362e-03, ...,\n",
       "          8.77195362e-03,   4.45274070e-03,   5.96550933e-13],\n",
       "       ..., \n",
       "       [ -5.34444152e-16,   9.25426422e-06,   1.86184405e-05, ...,\n",
       "          1.86184405e-05,   9.25426422e-06,   1.07701703e-15],\n",
       "       [ -6.98018694e-16,   4.74561230e-06,   9.50215633e-06, ...,\n",
       "          9.50215633e-06,   4.74561230e-06,   1.35991774e-16],\n",
       "       [  1.99297811e-18,  -3.73394659e-17,  -1.04356025e-16, ...,\n",
       "         -3.56670071e-16,  -2.30696137e-16,   0.00000000e+00]])"
      ]
     },
     "execution_count": 547,
     "metadata": {},
     "output_type": "execute_result"
    }
   ],
   "source": [
    "s.properties['T'][:] = ing\n",
    "s.computeSample('T')"
   ]
  },
  {
   "cell_type": "code",
   "execution_count": 548,
   "metadata": {
    "ExecuteTime": {
     "end_time": "2018-03-04T16:18:12.978680Z",
     "start_time": "2018-03-04T16:18:12.779167Z"
    },
    "collapsed": false
   },
   "outputs": [
    {
     "data": {
      "image/png": "[encoded data removed]",
      "text/plain": [
       "<matplotlib.figure.Figure at 0x7fa3b1ffa910>"
      ]
     },
     "metadata": {},
     "output_type": "display_data"
    }
   ],
   "source": [
    "plt.contourf(s.properties['x_sample'],s.properties['y_sample'],s.properties['T_sample']);plt.colorbar();plt.show()"
   ]
  },
  {
   "cell_type": "code",
   "execution_count": 549,
   "metadata": {
    "ExecuteTime": {
     "end_time": "2018-03-04T16:18:13.370110Z",
     "start_time": "2018-03-04T16:18:13.364900Z"
    },
    "collapsed": true,
    "deletable": true,
    "editable": true
   },
   "outputs": [],
   "source": [
    "s.add_property('temp')"
   ]
  },
  {
   "cell_type": "code",
   "execution_count": 507,
   "metadata": {
    "ExecuteTime": {
     "end_time": "2018-03-04T15:50:45.171638Z",
     "start_time": "2018-03-04T15:50:45.165110Z"
    },
    "collapsed": false,
    "deletable": true,
    "editable": true
   },
   "outputs": [],
   "source": [
    "s.properties['temp'][:] = global_Dx.dot(s.properties['T'].ravel()).reshape(s.properties['temp'].shape)"
   ]
  },
  {
   "cell_type": "code",
   "execution_count": 508,
   "metadata": {
    "ExecuteTime": {
     "end_time": "2018-03-04T15:50:45.664874Z",
     "start_time": "2018-03-04T15:50:45.656563Z"
    },
    "collapsed": false,
    "deletable": true,
    "editable": true
   },
   "outputs": [
    {
     "data": {
      "text/plain": [
       "array([[  1.09739369e-04,  -1.48456126e-04,   5.93955639e-05,\n",
       "         -3.38669763e-05,   2.24324573e-05,  -1.60689799e-05,\n",
       "          1.19634650e-05,  -8.92334184e-06,   6.22322127e-06,\n",
       "         -2.43865265e-06],\n",
       "       [ -7.09039568e-02,   4.68044229e-02,   1.17415510e-02,\n",
       "          6.23539223e-03,   9.19656870e-04,   1.84406814e-03,\n",
       "         -8.22384289e-05,   7.05114825e-04,  -1.28979572e-04,\n",
       "          2.86496887e-03],\n",
       "       [ -1.41748106e-01,   4.38039496e-02,   4.16379272e-02,\n",
       "          2.03638063e-02,   1.07211172e-02,   4.95645144e-03,\n",
       "          3.05564562e-03,   1.29411507e-03,   7.64857257e-04,\n",
       "          1.51502361e-02],\n",
       "       [ -1.89460324e-01,   3.05594236e-02,   4.18596706e-02,\n",
       "          3.38561852e-02,   2.07373958e-02,   1.19129604e-02,\n",
       "          6.58309776e-03,   3.54032518e-03,   1.60550713e-03,\n",
       "          3.88057586e-02],\n",
       "       [ -2.14809915e-01,   2.12868953e-02,   3.29119131e-02,\n",
       "          3.33170353e-02,   2.54007807e-02,   1.65023536e-02,\n",
       "          9.86465760e-03,   5.43829490e-03,   2.54540383e-03,\n",
       "          6.75425810e-02],\n",
       "       [ -2.15865969e-01,   1.48263895e-02,   2.38556228e-02,\n",
       "          2.68040619e-02,   2.32411819e-02,   1.68295424e-02,\n",
       "          1.07696661e-02,   6.18978877e-03,   2.94962180e-03,\n",
       "          9.04000941e-02],\n",
       "       [ -1.93007132e-01,   1.00529681e-02,   1.64130436e-02,\n",
       "          1.93241630e-02,   1.79898128e-02,   1.39590793e-02,\n",
       "          9.42149770e-03,   5.59351528e-03,   2.71717812e-03,\n",
       "          9.75358736e-02],\n",
       "       [ -1.48889575e-01,   6.32611737e-03,   1.04581009e-02,\n",
       "          1.25197819e-02,   1.21099620e-02,   9.77987668e-03,\n",
       "          6.83242596e-03,   4.14717094e-03,   2.04232498e-03,\n",
       "          8.46738139e-02],\n",
       "       [ -8.82895084e-02,   3.29545053e-03,   5.40002685e-03,\n",
       "          6.64213618e-03,   6.49978230e-03,   5.38113925e-03,\n",
       "          3.81722804e-03,   2.35684502e-03,   1.16500617e-03,\n",
       "          5.37318941e-02],\n",
       "       [ -1.47528946e-02,   5.23893691e-04,   8.94800193e-04,\n",
       "          1.02803486e-03,   1.04951907e-03,   8.56635694e-04,\n",
       "          6.24948438e-04,   3.78986154e-04,   1.93299993e-04,\n",
       "          9.20277648e-03]])"
      ]
     },
     "execution_count": 508,
     "metadata": {},
     "output_type": "execute_result"
    }
   ],
   "source": [
    "(s.elements[0][0].properties['temp'])"
   ]
  },
  {
   "cell_type": "code",
   "execution_count": null,
   "metadata": {
    "collapsed": true,
    "deletable": true,
    "editable": true
   },
   "outputs": [],
   "source": []
  },
  {
   "cell_type": "code",
   "execution_count": 131,
   "metadata": {
    "ExecuteTime": {
     "end_time": "2018-03-03T14:05:35.809103Z",
     "start_time": "2018-03-03T14:05:35.801805Z"
    },
    "collapsed": false,
    "deletable": true,
    "editable": true
   },
   "outputs": [],
   "source": [
    "a = np.zeros([10000,10000])"
   ]
  },
  {
   "cell_type": "code",
   "execution_count": 82,
   "metadata": {
    "ExecuteTime": {
     "end_time": "2018-03-03T14:00:15.203278Z",
     "start_time": "2018-03-03T14:00:15.196377Z"
    },
    "collapsed": false,
    "deletable": true,
    "editable": true
   },
   "outputs": [
    {
     "data": {
      "text/plain": [
       "array([[ -2.63157895e-03,  -3.56020502e-03,   1.42519500e-03, ...,\n",
       "         -0.00000000e+00,   0.00000000e+00,  -0.00000000e+00],\n",
       "       [  3.56020499e-03,   3.79142291e-11,  -5.04296792e-03, ...,\n",
       "          0.00000000e+00,  -0.00000000e+00,   0.00000000e+00],\n",
       "       [ -1.42519499e-03,   5.04296795e-03,  -5.26014903e-11, ...,\n",
       "         -0.00000000e+00,   0.00000000e+00,  -0.00000000e+00],\n",
       "       ..., \n",
       "       [  0.00000000e+00,  -0.00000000e+00,   0.00000000e+00, ...,\n",
       "         -1.82511007e-13,  -5.04296795e-03,   1.42519500e-03],\n",
       "       [ -0.00000000e+00,   0.00000000e+00,  -0.00000000e+00, ...,\n",
       "          5.04296795e-03,   3.09048189e-14,  -3.56020499e-03],\n",
       "       [  0.00000000e+00,  -0.00000000e+00,   0.00000000e+00, ...,\n",
       "         -1.42519500e-03,   3.56020499e-03,   2.63157895e-03]])"
      ]
     },
     "execution_count": 82,
     "metadata": {},
     "output_type": "execute_result"
    }
   ],
   "source": [
    "s.Dx"
   ]
  },
  {
   "cell_type": "code",
   "execution_count": null,
   "metadata": {
    "collapsed": true,
    "deletable": true,
    "editable": true
   },
   "outputs": [],
   "source": []
  },
  {
   "cell_type": "code",
   "execution_count": 83,
   "metadata": {
    "ExecuteTime": {
     "end_time": "2018-03-03T14:00:18.058053Z",
     "start_time": "2018-03-03T14:00:18.048584Z"
    },
    "collapsed": true,
    "deletable": true,
    "editable": true
   },
   "outputs": [],
   "source": [
    "x = s.properties['T'].ravel()\n",
    "y = s.properties['dT'].ravel()"
   ]
  },
  {
   "cell_type": "code",
   "execution_count": 84,
   "metadata": {
    "ExecuteTime": {
     "end_time": "2018-03-03T14:00:19.136746Z",
     "start_time": "2018-03-03T14:00:19.096516Z"
    },
    "collapsed": false,
    "deletable": true,
    "editable": true
   },
   "outputs": [],
   "source": [
    "a = np.zeros_like(s.Dx)\n",
    "a[::n,::n] = s.Fx.copy()\n",
    "a[n-1::n,n-1::n] = -1*s.Fx.copy()\n",
    "derx = -1*s.M_inv.dot(a + s.Dx)\n",
    "der2x = derx.dot(derx)\n",
    "\n",
    "a = np.zeros_like(s.Dy)\n",
    "a[:n,:n] = s.Fy.copy()\n",
    "a[-n:,-n:] = -1*s.Fy.copy()\n",
    "dery = -1*s.M_inv.dot(a + s.Dy)\n",
    "der2y = dery.dot(dery)\n",
    "\n",
    "lap = der2x+der2y"
   ]
  },
  {
   "cell_type": "code",
   "execution_count": 85,
   "metadata": {
    "ExecuteTime": {
     "end_time": "2018-03-03T14:00:20.022975Z",
     "start_time": "2018-03-03T14:00:20.008843Z"
    },
    "collapsed": false,
    "deletable": true,
    "editable": true
   },
   "outputs": [],
   "source": [
    "lap[:n] = 0\n",
    "lap[:n,:n] = np.eye(n)\n",
    "lap[-n:] = 0\n",
    "lap[-n:,-n:] = np.eye(n)\n",
    "\n",
    "lap[::n] = 0\n",
    "lap[::n,::n] = np.eye(n)\n",
    "lap[n-1::n] = 0\n",
    "lap[n-1::n,n-1::n] = np.eye(n)\n",
    "\n",
    "#lap[:n,:n] = dery[:n,:n]\n",
    "#lap[-n:,-n:] = dery[-n:,-n:]\n",
    "#lap[n-1::n,n-1::n] = derx[n-1::n,n-1::n]"
   ]
  },
  {
   "cell_type": "code",
   "execution_count": 86,
   "metadata": {
    "ExecuteTime": {
     "end_time": "2018-03-03T14:00:20.990177Z",
     "start_time": "2018-03-03T14:00:20.930111Z"
    },
    "collapsed": false,
    "deletable": true,
    "editable": true
   },
   "outputs": [],
   "source": [
    "b = np.linalg.inv(lap)"
   ]
  },
  {
   "cell_type": "code",
   "execution_count": 87,
   "metadata": {
    "ExecuteTime": {
     "end_time": "2018-03-03T14:00:21.218812Z",
     "start_time": "2018-03-03T14:00:21.210891Z"
    },
    "collapsed": true,
    "deletable": true,
    "editable": true
   },
   "outputs": [],
   "source": [
    "y[:] = 0\n",
    "y[:n]=0.0\n",
    "y[-n:]=0.0\n",
    "y[::n]=1.0\n",
    "y[n-1::n]=0.0"
   ]
  },
  {
   "cell_type": "code",
   "execution_count": 90,
   "metadata": {
    "ExecuteTime": {
     "end_time": "2018-03-03T14:00:37.717181Z",
     "start_time": "2018-03-03T14:00:37.709833Z"
    },
    "collapsed": false,
    "deletable": true,
    "editable": true
   },
   "outputs": [],
   "source": [
    "ing = b.dot(y).reshape([n,n])"
   ]
  },
  {
   "cell_type": "code",
   "execution_count": 91,
   "metadata": {
    "ExecuteTime": {
     "end_time": "2018-03-03T14:00:38.194805Z",
     "start_time": "2018-03-03T14:00:38.191578Z"
    },
    "collapsed": false,
    "deletable": true,
    "editable": true
   },
   "outputs": [],
   "source": [
    "s.add_property('T',sample=True)\n",
    "s.properties['T'][:] = ing"
   ]
  },
  {
   "cell_type": "code",
   "execution_count": 92,
   "metadata": {
    "ExecuteTime": {
     "end_time": "2018-03-03T14:00:38.911729Z",
     "start_time": "2018-03-03T14:00:38.896841Z"
    },
    "collapsed": false,
    "deletable": true,
    "editable": true
   },
   "outputs": [
    {
     "data": {
      "text/plain": [
       "array([[  1.00000000e+00,  -1.88879695e-02,  -1.21409364e-01, ...,\n",
       "         -2.50328584e-03,  -1.92734372e-04,   0.00000000e+00],\n",
       "       [  1.00000000e+00,   8.72822604e-01,   7.62959697e-01, ...,\n",
       "          1.11042118e-03,   5.76166357e-04,  -5.62794076e-15],\n",
       "       [  1.00000000e+00,   9.40117211e-01,   8.77831887e-01, ...,\n",
       "          2.30295358e-03,   1.14287151e-03,   2.30431674e-15],\n",
       "       ..., \n",
       "       [  1.00000000e+00,   9.40117209e-01,   8.77831885e-01, ...,\n",
       "          2.30295358e-03,   1.14287151e-03,   3.53968023e-16],\n",
       "       [  1.00000000e+00,   8.72822605e-01,   7.62959699e-01, ...,\n",
       "          1.11042119e-03,   5.76166359e-04,  -7.57667046e-16],\n",
       "       [  1.00000000e+00,  -1.88879695e-02,  -1.21409364e-01, ...,\n",
       "         -2.50328584e-03,  -1.92734372e-04,   0.00000000e+00]])"
      ]
     },
     "execution_count": 92,
     "metadata": {},
     "output_type": "execute_result"
    }
   ],
   "source": [
    "s.computeSample('T')"
   ]
  },
  {
   "cell_type": "code",
   "execution_count": 93,
   "metadata": {
    "ExecuteTime": {
     "end_time": "2018-03-03T14:00:40.652852Z",
     "start_time": "2018-03-03T14:00:40.369149Z"
    },
    "collapsed": false,
    "deletable": true,
    "editable": true
   },
   "outputs": [
    {
     "data": {
      "image/png": "[encoded data removed]",
      "text/plain": [
       "<matplotlib.figure.Figure at 0x7f3d88df6790>"
      ]
     },
     "metadata": {},
     "output_type": "display_data"
    }
   ],
   "source": [
    "plt.contourf(s.properties['x_sample'],s.properties['y_sample'],s.properties['T_sample']);plt.colorbar();plt.show()"
   ]
  },
  {
   "cell_type": "code",
   "execution_count": 94,
   "metadata": {
    "ExecuteTime": {
     "end_time": "2018-03-03T14:00:43.011554Z",
     "start_time": "2018-03-03T14:00:43.002146Z"
    },
    "collapsed": false,
    "deletable": true,
    "editable": true
   },
   "outputs": [
    {
     "data": {
      "text/plain": [
       "1.0000000000000226"
      ]
     },
     "execution_count": 94,
     "metadata": {},
     "output_type": "execute_result"
    }
   ],
   "source": [
    "np.max(abs(b))"
   ]
  },
  {
   "cell_type": "code",
   "execution_count": null,
   "metadata": {
    "collapsed": true,
    "deletable": true,
    "editable": true
   },
   "outputs": [],
   "source": []
  }
 ],
 "metadata": {
  "kernelspec": {
   "display_name": "Python 2",
   "language": "python",
   "name": "python2"
  },
  "language_info": {
   "codemirror_mode": {
    "name": "ipython",
    "version": 2
   },
   "file_extension": ".py",
   "mimetype": "text/x-python",
   "name": "python",
   "nbconvert_exporter": "python",
   "pygments_lexer": "ipython2",
   "version": "2.7.13"
  }
 },
 "nbformat": 4,
 "nbformat_minor": 2
}
