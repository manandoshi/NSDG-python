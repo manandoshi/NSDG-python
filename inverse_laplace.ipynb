{
 "cells": [
  {
   "cell_type": "code",
   "execution_count": 1,
   "metadata": {
    "ExecuteTime": {
     "end_time": "2018-03-03T12:36:11.352218Z",
     "start_time": "2018-03-03T12:36:04.409424Z"
    },
    "collapsed": true,
    "deletable": true,
    "editable": true
   },
   "outputs": [],
   "source": [
    "import numpy as np\n",
    "import interpolation\n",
    "import lobatto\n",
    "import matplotlib.pyplot as plt\n",
    "import matrix_generator\n",
    "import system\n",
    "import element\n",
    "import sympy as sym"
   ]
  },
  {
   "cell_type": "code",
   "execution_count": 2,
   "metadata": {
    "ExecuteTime": {
     "end_time": "2018-03-03T12:36:11.366392Z",
     "start_time": "2018-03-03T12:36:11.357290Z"
    },
    "collapsed": true,
    "deletable": true,
    "editable": true
   },
   "outputs": [],
   "source": [
    "def linear(args, k=1.0):\n",
    "    return k*(1+args['y'])\n",
    "\n",
    "def dlinear(args, k=1.0):\n",
    "    return k*np.ones_like(args['x'])"
   ]
  },
  {
   "cell_type": "code",
   "execution_count": 3,
   "metadata": {
    "ExecuteTime": {
     "end_time": "2018-03-03T12:36:11.739238Z",
     "start_time": "2018-03-03T12:36:11.369274Z"
    },
    "collapsed": false,
    "deletable": true,
    "editable": true
   },
   "outputs": [
    {
     "data": {
      "text/plain": [
       "[[<element.element at 0x7f1940379f10>]]"
      ]
     },
     "execution_count": 3,
     "metadata": {},
     "output_type": "execute_result"
    }
   ],
   "source": [
    "boundary = {'N':{'type':'dirichlet' ,'val':linear, 'args':[\"x\",\"y\"]},\n",
    "              'E':{'type':'dirichlet' ,'val':linear,  'args':[\"x\",\"y\"]},\n",
    "              'W':{'type':'dirichlet' ,'val':linear, 'args':[\"x\",\"y\"]}, \n",
    "              'S':{'type':'dirichlet' ,'val':linear, 'args':[\"x\",\"y\"]}}\n",
    "n = 25\n",
    "s = system.system(-1.0,1.0,-1.0,1.0,1,1,n,n, num_samples_x=100, exact=False)\n",
    "s.elements"
   ]
  },
  {
   "cell_type": "code",
   "execution_count": 4,
   "metadata": {
    "ExecuteTime": {
     "end_time": "2018-03-03T12:36:14.244207Z",
     "start_time": "2018-03-03T12:36:14.206121Z"
    },
    "collapsed": false,
    "deletable": true,
    "editable": true
   },
   "outputs": [],
   "source": [
    "s.add_property('T',linear,arg_params=['x','y'], sample=True)\n",
    "s.set_boundaries('T', boundary)\n",
    "s.ddy(var='T', outVar='dT',fluxType='centered')"
   ]
  },
  {
   "cell_type": "code",
   "execution_count": 5,
   "metadata": {
    "ExecuteTime": {
     "end_time": "2018-03-03T12:36:17.054667Z",
     "start_time": "2018-03-03T12:36:16.781027Z"
    },
    "collapsed": false,
    "deletable": true,
    "editable": true
   },
   "outputs": [
    {
     "data": {
      "image/png": "[encoded data removed]",
      "text/plain": [
       "<matplotlib.figure.Figure at 0x7f1940379110>"
      ]
     },
     "metadata": {},
     "output_type": "display_data"
    }
   ],
   "source": [
    "plt.plot(s.properties['y'],s.properties['T'],'ro'); plt.show()"
   ]
  },
  {
   "cell_type": "code",
   "execution_count": 6,
   "metadata": {
    "ExecuteTime": {
     "end_time": "2018-03-03T12:36:19.778239Z",
     "start_time": "2018-03-03T12:36:19.775842Z"
    },
    "collapsed": true,
    "deletable": true,
    "editable": true
   },
   "outputs": [],
   "source": [
    "x = s.properties['T'].ravel()\n",
    "y = s.properties['dT'].ravel()"
   ]
  },
  {
   "cell_type": "code",
   "execution_count": 7,
   "metadata": {
    "ExecuteTime": {
     "end_time": "2018-03-03T12:36:20.737465Z",
     "start_time": "2018-03-03T12:36:20.663620Z"
    },
    "collapsed": false,
    "deletable": true,
    "editable": true
   },
   "outputs": [],
   "source": [
    "a = np.zeros_like(s.Dx)\n",
    "a[::n,::n] = s.Fx.copy()\n",
    "a[n-1::n,n-1::n] = -1*s.Fx.copy()\n",
    "derx = -1*s.M_inv.dot(a + s.Dx)\n",
    "der2x = derx.dot(derx)\n",
    "\n",
    "a = np.zeros_like(s.Dy)\n",
    "a[:n,:n] = s.Fy.copy()\n",
    "a[-n:,-n:] = -1*s.Fy.copy()\n",
    "dery = -1*s.M_inv.dot(a + s.Dy)\n",
    "der2y = dery.dot(dery)\n",
    "\n",
    "lap = der2x+der2y"
   ]
  },
  {
   "cell_type": "code",
   "execution_count": 8,
   "metadata": {
    "ExecuteTime": {
     "end_time": "2018-03-03T12:36:22.327195Z",
     "start_time": "2018-03-03T12:36:22.321122Z"
    },
    "collapsed": true,
    "deletable": true,
    "editable": true
   },
   "outputs": [],
   "source": [
    "lap[:n] = 0\n",
    "lap[:n,:n] = np.eye(n)\n",
    "lap[-n:] = 0\n",
    "lap[-n:,-n:] = np.eye(n)\n",
    "\n",
    "lap[::n] = 0\n",
    "lap[::n,::n] = np.eye(n)\n",
    "lap[n-1::n] = 0\n",
    "lap[n-1::n,n-1::n] = np.eye(n)\n",
    "\n",
    "#lap[:n,:n] = dery[:n,:n]\n",
    "#lap[-n:,-n:] = dery[-n:,-n:]\n",
    "#lap[n-1::n,n-1::n] = derx[n-1::n,n-1::n]"
   ]
  },
  {
   "cell_type": "code",
   "execution_count": 9,
   "metadata": {
    "ExecuteTime": {
     "end_time": "2018-03-03T12:36:23.755348Z",
     "start_time": "2018-03-03T12:36:23.708633Z"
    },
    "collapsed": false,
    "deletable": true,
    "editable": true
   },
   "outputs": [],
   "source": [
    "b = np.linalg.inv(lap)"
   ]
  },
  {
   "cell_type": "code",
   "execution_count": 10,
   "metadata": {
    "ExecuteTime": {
     "end_time": "2018-03-03T12:36:24.311393Z",
     "start_time": "2018-03-03T12:36:24.303165Z"
    },
    "collapsed": true,
    "deletable": true,
    "editable": true
   },
   "outputs": [],
   "source": [
    "y[:] = 0\n",
    "y[:n]=0.0\n",
    "y[-n:]=0.0\n",
    "y[::n]=1.0\n",
    "y[n-1::n]=0.0"
   ]
  },
  {
   "cell_type": "code",
   "execution_count": 16,
   "metadata": {
    "ExecuteTime": {
     "end_time": "2018-03-03T12:48:21.044405Z",
     "start_time": "2018-03-03T12:48:21.030566Z"
    },
    "collapsed": false,
    "deletable": true,
    "editable": true
   },
   "outputs": [],
   "source": [
    "ing = b.dot(y).reshape([n,n])"
   ]
  },
  {
   "cell_type": "code",
   "execution_count": 18,
   "metadata": {
    "ExecuteTime": {
     "end_time": "2018-03-03T12:49:42.715455Z",
     "start_time": "2018-03-03T12:49:42.709991Z"
    },
    "collapsed": true,
    "deletable": true,
    "editable": true
   },
   "outputs": [],
   "source": [
    "s.add_property('T',sample=True)\n",
    "s.properties['T'][:] = ing"
   ]
  },
  {
   "cell_type": "code",
   "execution_count": 19,
   "metadata": {
    "ExecuteTime": {
     "end_time": "2018-03-03T12:50:19.443885Z",
     "start_time": "2018-03-03T12:50:19.423308Z"
    },
    "collapsed": false,
    "deletable": true,
    "editable": true
   },
   "outputs": [
    {
     "data": {
      "text/plain": [
       "array([[  1.00000000e+00,  -1.29431868e-01,  -2.48135253e-03, ...,\n",
       "          5.11614026e-05,   1.32073310e-03,   0.00000000e+00],\n",
       "       [  1.00000000e+00,   8.81399829e-01,   7.64565368e-01, ...,\n",
       "          1.15789130e-03,   5.62904402e-04,  -1.16633963e-14],\n",
       "       [  1.00000000e+00,   9.37312007e-01,   8.77132300e-01, ...,\n",
       "          2.28468888e-03,   1.14554703e-03,  -4.60061315e-15],\n",
       "       ..., \n",
       "       [  1.00000000e+00,   9.37312103e-01,   8.77132432e-01, ...,\n",
       "          2.28468916e-03,   1.14554717e-03,   3.51254837e-15],\n",
       "       [  1.00000000e+00,   8.81399766e-01,   7.64565273e-01, ...,\n",
       "          1.15789103e-03,   5.62904271e-04,  -3.58866070e-15],\n",
       "       [  1.00000000e+00,  -1.29431868e-01,  -2.48135253e-03, ...,\n",
       "          5.11614026e-05,   1.32073310e-03,   0.00000000e+00]])"
      ]
     },
     "execution_count": 19,
     "metadata": {},
     "output_type": "execute_result"
    }
   ],
   "source": [
    "s.computeSample('T')"
   ]
  },
  {
   "cell_type": "code",
   "execution_count": 20,
   "metadata": {
    "ExecuteTime": {
     "end_time": "2018-03-03T12:50:36.809293Z",
     "start_time": "2018-03-03T12:50:36.567974Z"
    },
    "collapsed": false,
    "deletable": true,
    "editable": true
   },
   "outputs": [
    {
     "data": {
      "image/png": "[encoded data removed]",
      "text/plain": [
       "<matplotlib.figure.Figure at 0x7f193fcf3550>"
      ]
     },
     "metadata": {},
     "output_type": "display_data"
    }
   ],
   "source": [
    "plt.contourf(s.properties['x_sample'],s.properties['y_sample'],s.properties['T_sample']);plt.colorbar();plt.show()"
   ]
  },
  {
   "cell_type": "code",
   "execution_count": 13,
   "metadata": {
    "ExecuteTime": {
     "end_time": "2018-03-03T12:36:29.331964Z",
     "start_time": "2018-03-03T12:36:29.327459Z"
    },
    "collapsed": false,
    "deletable": true,
    "editable": true
   },
   "outputs": [
    {
     "data": {
      "text/plain": [
       "1.000000000000087"
      ]
     },
     "execution_count": 13,
     "metadata": {},
     "output_type": "execute_result"
    }
   ],
   "source": [
    "np.max(abs(b))"
   ]
  }
 ],
 "metadata": {
  "kernelspec": {
   "display_name": "Python 2",
   "language": "python",
   "name": "python2"
  },
  "language_info": {
   "codemirror_mode": {
    "name": "ipython",
    "version": 2
   },
   "file_extension": ".py",
   "mimetype": "text/x-python",
   "name": "python",
   "nbconvert_exporter": "python",
   "pygments_lexer": "ipython2",
   "version": "2.7.13"
  }
 },
 "nbformat": 4,
 "nbformat_minor": 2
}
